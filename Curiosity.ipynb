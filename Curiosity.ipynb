{
 "cells": [
  {
   "cell_type": "code",
   "execution_count": 1,
   "metadata": {},
   "outputs": [],
   "source": [
    "import pandas as pd\n",
    "import requests\n",
    "from bs4 import BeautifulSoup as bs\n",
    "from splinter import Browser"
   ]
  },
  {
   "cell_type": "code",
   "execution_count": 2,
   "metadata": {},
   "outputs": [],
   "source": [
    "newsUrl = 'https://mars.nasa.gov/news/'\n",
    "picUrl = 'https://www.jpl.nasa.gov/spaceimages/?search=&category=Mars'\n",
    "weatherUrl = 'https://twitter.com/marswxreport?lang=en'\n",
    "factsUrl = 'https://space-facts.com/mars/'\n",
    "hemisUrl = 'https://astrogeology.usgs.gov/search/results?q=hemisphere+enhanced&k1=target&v1=Mars'"
   ]
  },
  {
   "cell_type": "code",
   "execution_count": 3,
   "metadata": {},
   "outputs": [],
   "source": [
    "executable_path = {'executable_path': '/usr/local/bin/chromedriver'}\n",
    "browser = Browser('chrome', **executable_path, headless=False)"
   ]
  },
  {
   "cell_type": "code",
   "execution_count": 4,
   "metadata": {},
   "outputs": [],
   "source": [
    "news_response = requests.get(newsUrl)"
   ]
  },
  {
   "cell_type": "code",
   "execution_count": 5,
   "metadata": {},
   "outputs": [],
   "source": [
    "news_soup = bs(news_response.text, 'html.parser')"
   ]
  },
  {
   "cell_type": "code",
   "execution_count": 6,
   "metadata": {},
   "outputs": [],
   "source": [
    "#print(news_soup.prettify())"
   ]
  },
  {
   "cell_type": "code",
   "execution_count": 7,
   "metadata": {},
   "outputs": [],
   "source": [
    "news_results = news_soup.body.find_all('div', class_='slide')\n",
    "#print(len(news_results))\n",
    "news_list = []"
   ]
  },
  {
   "cell_type": "code",
   "execution_count": 8,
   "metadata": {},
   "outputs": [
    {
     "name": "stdout",
     "output_type": "stream",
     "text": [
      "[{'article number': 1, 'article title': 'Opportunity Hunkers Down During Dust Storm', 'articly summary': \"It's the beginning of the end for the planet-encircling dust storm on Mars. But it could still be weeks, or even months, before skies are clear enough for NASA's Opportunity rover to recharge its batteries and phone home.\"}, {'article number': 2, 'article title': 'NASA Finds Ancient Organic Material, Mysterious Methane on Mars', 'articly summary': 'NASA’s Curiosity rover has found evidence on Mars with implications for NASA’s search for life.'}, {'article number': 3, 'article title': 'NASA Invests in Visionary Technology', 'articly summary': 'NASA is investing in technology concepts, including several from JPL, that may one day be used for future space exploration missions.'}, {'article number': 4, 'article title': 'NASA is Ready to Study the Heart of Mars', 'articly summary': 'NASA is about to go on a journey to study the center of Mars.'}, {'article number': 5, 'article title': 'NASA Briefing on First Mission to Study Mars Interior', 'articly summary': 'NASA’s next mission to Mars will be the topic of a media briefing Thursday, March 29, at JPL. The briefing will air live on NASA Television and the agency’s website.'}, {'article number': 6, 'article title': \"New 'AR' Mobile App Features 3-D NASA Spacecraft\", 'articly summary': \"NASA spacecraft travel to far-off destinations in space, but a new mobile app produced by NASA's Jet Propulsion Laboratory, Pasadena, California, brings spacecraft to users.\"}]\n"
     ]
    }
   ],
   "source": [
    "counter = 1\n",
    "\n",
    "for result in news_results:\n",
    "    title = result.find('div', class_='content_title').find('a').text.strip()\n",
    "    body = result.find('div', class_='rollover_description_inner').text.strip()\n",
    "    article_information = {\n",
    "        'article number': counter,\n",
    "        'article title' : title,\n",
    "        'articly summary' : body\n",
    "    }\n",
    "    \n",
    "    news_list.append(article_information)\n",
    "    counter += 1\n",
    "    \n",
    "print(news_list)"
   ]
  },
  {
   "cell_type": "code",
   "execution_count": 9,
   "metadata": {},
   "outputs": [],
   "source": [
    "browser.visit(picUrl)"
   ]
  },
  {
   "cell_type": "code",
   "execution_count": 10,
   "metadata": {},
   "outputs": [],
   "source": [
    "pic_html = browser.html\n",
    "pic_soup = bs(pic_html, 'html.parser')\n",
    "\n",
    "pic_style = pic_soup.find('article', class_='carousel_item')['style']"
   ]
  },
  {
   "cell_type": "code",
   "execution_count": 11,
   "metadata": {},
   "outputs": [],
   "source": [
    "pic_style = pic_style.split(\"url\")[1]\n",
    "pic_link = pic_style.split(\"'\")[1]"
   ]
  },
  {
   "cell_type": "code",
   "execution_count": 12,
   "metadata": {},
   "outputs": [
    {
     "name": "stdout",
     "output_type": "stream",
     "text": [
      "https://www.jpl.nasa.gov/spaceimages/images/wallpaper/PIA18432-1920x1200.jpg\n"
     ]
    }
   ],
   "source": [
    "pic_link_final = 'https://www.jpl.nasa.gov' + pic_link\n",
    "print(pic_link_final)"
   ]
  },
  {
   "cell_type": "code",
   "execution_count": 13,
   "metadata": {},
   "outputs": [],
   "source": [
    "weather_response = requests.get(weatherUrl)\n",
    "weather_soup = bs(weather_response.text, 'html.parser')\n",
    "#print(weather_soup.prettify())"
   ]
  },
  {
   "cell_type": "code",
   "execution_count": 14,
   "metadata": {},
   "outputs": [],
   "source": [
    "weather_results = weather_soup.find_all('div', class_='content')"
   ]
  },
  {
   "cell_type": "code",
   "execution_count": 15,
   "metadata": {},
   "outputs": [
    {
     "name": "stdout",
     "output_type": "stream",
     "text": [
      "Sol 2174 (2018-09-17), high -22C/-7F, low -68C/-90F, pressure at 8.96 hPa, daylight 05:45-18:01\n"
     ]
    }
   ],
   "source": [
    "weather_text = ''\n",
    "for result in weather_results:\n",
    "    try:\n",
    "        href = result.find('a').attrs['href']\n",
    "        if href=='/MarsWxReport':\n",
    "            content = result.find('div', class_='js-tweet-text-container').find('p').text.strip()\n",
    "            if 'Sol' in content:\n",
    "                weather_text = content\n",
    "                break\n",
    "    except AttributeError as error:\n",
    "        print(error)\n",
    "\n",
    "print(weather_text)"
   ]
  },
  {
   "cell_type": "code",
   "execution_count": 16,
   "metadata": {},
   "outputs": [],
   "source": [
    "facts = pd.read_html(factsUrl)"
   ]
  },
  {
   "cell_type": "code",
   "execution_count": 17,
   "metadata": {},
   "outputs": [],
   "source": [
    "facts_df = facts[0]\n",
    "facts_df = facts_df.rename(columns={0 : 'Variable', 1 : 'Value'})\n",
    "facts_df = facts_df.set_index('Variable')"
   ]
  },
  {
   "cell_type": "code",
   "execution_count": 18,
   "metadata": {},
   "outputs": [],
   "source": [
    "table_headers = list(facts_df.index.values)\n",
    "table_values = list(facts_df['Value'].values)"
   ]
  },
  {
   "cell_type": "code",
   "execution_count": 19,
   "metadata": {},
   "outputs": [
    {
     "data": {
      "text/plain": [
       "'<table border=\"1\" class=\"dataframe\">  <thead>    <tr style=\"text-align: right;\">      <th></th>      <th>Value</th>    </tr>    <tr>      <th>Variable</th>      <th></th>    </tr>  </thead>  <tbody>    <tr>      <th>Equatorial Diameter:</th>      <td>6,792 km</td>    </tr>    <tr>      <th>Polar Diameter:</th>      <td>6,752 km</td>    </tr>    <tr>      <th>Mass:</th>      <td>6.42 x 10^23 kg (10.7% Earth)</td>    </tr>    <tr>      <th>Moons:</th>      <td>2 (Phobos &amp; Deimos)</td>    </tr>    <tr>      <th>Orbit Distance:</th>      <td>227,943,824 km (1.52 AU)</td>    </tr>    <tr>      <th>Orbit Period:</th>      <td>687 days (1.9 years)</td>    </tr>    <tr>      <th>Surface Temperature:</th>      <td>-153 to 20 °C</td>    </tr>    <tr>      <th>First Record:</th>      <td>2nd millennium BC</td>    </tr>    <tr>      <th>Recorded By:</th>      <td>Egyptian astronomers</td>    </tr>  </tbody></table>'"
      ]
     },
     "execution_count": 19,
     "metadata": {},
     "output_type": "execute_result"
    }
   ],
   "source": [
    "facts_df.to_html('facts.html')\n",
    "html_facts_df = facts_df.to_html()\n",
    "html_facts_df = html_facts_df.replace('\\n', '')\n",
    "html_facts_df"
   ]
  },
  {
   "cell_type": "code",
   "execution_count": 20,
   "metadata": {},
   "outputs": [],
   "source": [
    "browser.visit(hemisUrl)"
   ]
  },
  {
   "cell_type": "code",
   "execution_count": 21,
   "metadata": {},
   "outputs": [],
   "source": [
    "hemi_html = browser.html\n",
    "hemi_soup = bs(hemi_html, 'html.parser')\n",
    "\n",
    "hemi_results = hemi_soup.find_all('div', class_='item')"
   ]
  },
  {
   "cell_type": "code",
   "execution_count": 22,
   "metadata": {},
   "outputs": [],
   "source": [
    "link_array = []\n",
    "title_array = []\n",
    "for result in hemi_results:\n",
    "    title = result.find('h3').text\n",
    "    link = 'https://astrogeology.usgs.gov' + result.find('a').attrs['href']\n",
    "    link_array.append(link)\n",
    "    title_array.append(title)"
   ]
  },
  {
   "cell_type": "code",
   "execution_count": 23,
   "metadata": {},
   "outputs": [],
   "source": [
    "final_hemi_img = []\n",
    "for link in link_array:\n",
    "    browser.visit(link)\n",
    "    link_html = browser.html\n",
    "    soup = bs(link_html, 'html.parser')\n",
    "    result = soup.find('div', class_='downloads').find('a').attrs['href']\n",
    "    final_hemi_img.append(result)"
   ]
  },
  {
   "cell_type": "code",
   "execution_count": 24,
   "metadata": {},
   "outputs": [
    {
     "name": "stdout",
     "output_type": "stream",
     "text": [
      "[{'Image Hemisphere Title': 'Cerberus Hemisphere Enhanced', 'Image Hemisphere Link': 'http://astropedia.astrogeology.usgs.gov/download/Mars/Viking/cerberus_enhanced.tif/full.jpg'}, {'Image Hemisphere Title': 'Schiaparelli Hemisphere Enhanced', 'Image Hemisphere Link': 'http://astropedia.astrogeology.usgs.gov/download/Mars/Viking/schiaparelli_enhanced.tif/full.jpg'}, {'Image Hemisphere Title': 'Syrtis Major Hemisphere Enhanced', 'Image Hemisphere Link': 'http://astropedia.astrogeology.usgs.gov/download/Mars/Viking/syrtis_major_enhanced.tif/full.jpg'}, {'Image Hemisphere Title': 'Valles Marineris Hemisphere Enhanced', 'Image Hemisphere Link': 'http://astropedia.astrogeology.usgs.gov/download/Mars/Viking/valles_marineris_enhanced.tif/full.jpg'}]\n"
     ]
    }
   ],
   "source": [
    "hemi_data = []\n",
    "for title, link in zip (title_array, final_hemi_img):\n",
    "    info = {\n",
    "        'Image Hemisphere Title' : title,\n",
    "        'Image Hemisphere Link' : link\n",
    "    }\n",
    "    hemi_data.append(info)\n",
    "print(hemi_data)"
   ]
  },
  {
   "cell_type": "code",
   "execution_count": 25,
   "metadata": {},
   "outputs": [],
   "source": [
    "#news_list, weather_text, pic_link_final, html_facts_df, hemi_data"
   ]
  },
  {
   "cell_type": "code",
   "execution_count": 26,
   "metadata": {},
   "outputs": [],
   "source": [
    "import json"
   ]
  },
  {
   "cell_type": "code",
   "execution_count": 27,
   "metadata": {},
   "outputs": [
    {
     "name": "stdout",
     "output_type": "stream",
     "text": [
      "{\n",
      "    \"News\": [\n",
      "        {\n",
      "            \"article number\": 1,\n",
      "            \"article title\": \"Opportunity Hunkers Down During Dust Storm\",\n",
      "            \"articly summary\": \"It's the beginning of the end for the planet-encircling dust storm on Mars. But it could still be weeks, or even months, before skies are clear enough for NASA's Opportunity rover to recharge its batteries and phone home.\"\n",
      "        },\n",
      "        {\n",
      "            \"article number\": 2,\n",
      "            \"article title\": \"NASA Finds Ancient Organic Material, Mysterious Methane on Mars\",\n",
      "            \"articly summary\": \"NASA\\u2019s Curiosity rover has found evidence on Mars with implications for NASA\\u2019s search for life.\"\n",
      "        },\n",
      "        {\n",
      "            \"article number\": 3,\n",
      "            \"article title\": \"NASA Invests in Visionary Technology\",\n",
      "            \"articly summary\": \"NASA is investing in technology concepts, including several from JPL, that may one day be used for future space exploration missions.\"\n",
      "        },\n",
      "        {\n",
      "            \"article number\": 4,\n",
      "            \"article title\": \"NASA is Ready to Study the Heart of Mars\",\n",
      "            \"articly summary\": \"NASA is about to go on a journey to study the center of Mars.\"\n",
      "        },\n",
      "        {\n",
      "            \"article number\": 5,\n",
      "            \"article title\": \"NASA Briefing on First Mission to Study Mars Interior\",\n",
      "            \"articly summary\": \"NASA\\u2019s next mission to Mars will be the topic of a media briefing Thursday, March 29, at JPL. The briefing will air live on NASA Television and the agency\\u2019s website.\"\n",
      "        },\n",
      "        {\n",
      "            \"article number\": 6,\n",
      "            \"article title\": \"New 'AR' Mobile App Features 3-D NASA Spacecraft\",\n",
      "            \"articly summary\": \"NASA spacecraft travel to far-off destinations in space, but a new mobile app produced by NASA's Jet Propulsion Laboratory, Pasadena, California, brings spacecraft to users.\"\n",
      "        }\n",
      "    ],\n",
      "    \"Weather\": \"Sol 2174 (2018-09-17), high -22C/-7F, low -68C/-90F, pressure at 8.96 hPa, daylight 05:45-18:01\",\n",
      "    \"Main Image\": \"https://www.jpl.nasa.gov/spaceimages/images/wallpaper/PIA18432-1920x1200.jpg\",\n",
      "    \"Table HTML\": \"<table border=\\\"1\\\" class=\\\"dataframe\\\">  <thead>    <tr style=\\\"text-align: right;\\\">      <th></th>      <th>Value</th>    </tr>    <tr>      <th>Variable</th>      <th></th>    </tr>  </thead>  <tbody>    <tr>      <th>Equatorial Diameter:</th>      <td>6,792 km</td>    </tr>    <tr>      <th>Polar Diameter:</th>      <td>6,752 km</td>    </tr>    <tr>      <th>Mass:</th>      <td>6.42 x 10^23 kg (10.7% Earth)</td>    </tr>    <tr>      <th>Moons:</th>      <td>2 (Phobos &amp; Deimos)</td>    </tr>    <tr>      <th>Orbit Distance:</th>      <td>227,943,824 km (1.52 AU)</td>    </tr>    <tr>      <th>Orbit Period:</th>      <td>687 days (1.9 years)</td>    </tr>    <tr>      <th>Surface Temperature:</th>      <td>-153 to 20 \\u00b0C</td>    </tr>    <tr>      <th>First Record:</th>      <td>2nd millennium BC</td>    </tr>    <tr>      <th>Recorded By:</th>      <td>Egyptian astronomers</td>    </tr>  </tbody></table>\",\n",
      "    \"Hemisphere Data\": [\n",
      "        {\n",
      "            \"Image Hemisphere Title\": \"Cerberus Hemisphere Enhanced\",\n",
      "            \"Image Hemisphere Link\": \"http://astropedia.astrogeology.usgs.gov/download/Mars/Viking/cerberus_enhanced.tif/full.jpg\"\n",
      "        },\n",
      "        {\n",
      "            \"Image Hemisphere Title\": \"Schiaparelli Hemisphere Enhanced\",\n",
      "            \"Image Hemisphere Link\": \"http://astropedia.astrogeology.usgs.gov/download/Mars/Viking/schiaparelli_enhanced.tif/full.jpg\"\n",
      "        },\n",
      "        {\n",
      "            \"Image Hemisphere Title\": \"Syrtis Major Hemisphere Enhanced\",\n",
      "            \"Image Hemisphere Link\": \"http://astropedia.astrogeology.usgs.gov/download/Mars/Viking/syrtis_major_enhanced.tif/full.jpg\"\n",
      "        },\n",
      "        {\n",
      "            \"Image Hemisphere Title\": \"Valles Marineris Hemisphere Enhanced\",\n",
      "            \"Image Hemisphere Link\": \"http://astropedia.astrogeology.usgs.gov/download/Mars/Viking/valles_marineris_enhanced.tif/full.jpg\"\n",
      "        }\n",
      "    ]\n",
      "}\n"
     ]
    }
   ],
   "source": [
    "information = {\n",
    "    'News' : news_list,\n",
    "    'Weather' : weather_text,\n",
    "    'Main Image' : pic_link_final,\n",
    "    'Table HTML' : html_facts_df,\n",
    "    'Hemisphere Data' : hemi_data\n",
    "}\n",
    "print(json.dumps(information, indent=4))"
   ]
  },
  {
   "cell_type": "code",
   "execution_count": null,
   "metadata": {},
   "outputs": [],
   "source": []
  }
 ],
 "metadata": {
  "kernelspec": {
   "display_name": "Python 3",
   "language": "python",
   "name": "python3"
  },
  "language_info": {
   "codemirror_mode": {
    "name": "ipython",
    "version": 3
   },
   "file_extension": ".py",
   "mimetype": "text/x-python",
   "name": "python",
   "nbconvert_exporter": "python",
   "pygments_lexer": "ipython3",
   "version": "3.6.5"
  }
 },
 "nbformat": 4,
 "nbformat_minor": 2
}
